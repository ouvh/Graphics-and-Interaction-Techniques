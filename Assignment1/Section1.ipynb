{
 "cells": [
  {
   "cell_type": "markdown",
   "metadata": {},
   "source": [
    " ## Questionaire\n",
    "\n",
    "## 1 Basics of Signal Visualization\n",
    "\n",
    "### 1.1 Signals\n",
    "Definition: Signals are functions that carry information, often represented as variations in physical quantities (e.g., sound, light, voltage) over time or space.\n",
    "\n",
    "Importance: Used in communication, control systems, and signal processing to transmit, monitor, and analyze data.\n",
    "\n",
    "### 1.2 Signal Visualization\n",
    "Definition: Graphical representation of signals to make patterns and trends easier to understand.\n",
    "\n",
    "Importance: Helps identify anomalies, simplify complex data, and support decision-making.\n",
    "\n",
    "### 1.3 Dimensions of Signal Visualization\n",
    "1D: Signals varying over one variable (e.g., time), like audio waveforms.\n",
    "\n",
    "2D: Signals varying over two variables (e.g., time and frequency), like spectrograms or images.\n",
    "\n",
    "3D: Signals varying over three variables (e.g., space and time), like video or volumetric data.\n",
    "\n",
    "### 1.4 Multi-Channel and Multi-Modal Signals\n",
    "Multi-Channel: Multiple signals captured simultaneously (e.g., EEG from multiple electrodes).\n",
    "\n",
    "Multi-Modal: Combining different types of data (e.g., audio and video) for richer analysis.\n",
    "\n",
    "### 1.5 Frequency-Domain Visualizations\n",
    "Power Spectrum Density (PSD): Shows how signal power is distributed across frequencies.\n",
    "\n",
    "Spectrogram: Displays how frequency content changes over time, useful for non-stationary signals like speech.\n",
    "\n",
    "### 1.6 Dimensionality Reduction and Related Concepts\n",
    "Dimensionality Reduction: Simplifying data by reducing variables (e.g., PCA, t-SNE).\n",
    "\n",
    "Structure Preservation: Keeping relationships in the data intact.\n",
    "\n",
    "Separability: Ability to distinguish between different classes in reduced data.\n",
    "\n",
    "Interpretability: Making reduced data understandable.\n",
    "\n",
    "### 1.7 Voxel\n",
    "Definition: A 3D pixel representing a value in a volumetric grid.\n",
    "\n",
    "Use: Represents 3D data like medical imaging (CT, MRI) or 3D video.\n",
    "\n",
    "### 1.8 Markers for Motion Representation\n",
    "Definition: Points used to track movement of objects or bodies.\n",
    "\n",
    "Use: Applied in motion capture for animation, sports analysis, or biomechanics."
   ]
  },
  {
   "cell_type": "markdown",
   "metadata": {},
   "source": []
  }
 ],
 "metadata": {
  "language_info": {
   "name": "python"
  }
 },
 "nbformat": 4,
 "nbformat_minor": 2
}
